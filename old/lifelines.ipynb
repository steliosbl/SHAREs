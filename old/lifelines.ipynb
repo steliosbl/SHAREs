{
 "cells": [
  {
   "cell_type": "code",
   "execution_count": 2,
   "id": "87616c16",
   "metadata": {},
   "outputs": [],
   "source": [
    "import numpy as np \n",
    "import pandas as pd \n",
    "import matplotlib.pyplot as plt"
   ]
  },
  {
   "cell_type": "code",
   "execution_count": 3,
   "id": "5f2e55c6",
   "metadata": {},
   "outputs": [
    {
     "data": {
      "text/html": [
       "<div>\n",
       "<style scoped>\n",
       "    .dataframe tbody tr th:only-of-type {\n",
       "        vertical-align: middle;\n",
       "    }\n",
       "\n",
       "    .dataframe tbody tr th {\n",
       "        vertical-align: top;\n",
       "    }\n",
       "\n",
       "    .dataframe thead th {\n",
       "        text-align: right;\n",
       "    }\n",
       "</style>\n",
       "<table border=\"1\" class=\"dataframe\">\n",
       "  <tbody>\n",
       "    <tr>\n",
       "      <th>model</th>\n",
       "      <td>lifelines.CoxPHFitter</td>\n",
       "    </tr>\n",
       "    <tr>\n",
       "      <th>duration col</th>\n",
       "      <td>'week'</td>\n",
       "    </tr>\n",
       "    <tr>\n",
       "      <th>event col</th>\n",
       "      <td>'arrest'</td>\n",
       "    </tr>\n",
       "    <tr>\n",
       "      <th>baseline estimation</th>\n",
       "      <td>breslow</td>\n",
       "    </tr>\n",
       "    <tr>\n",
       "      <th>number of observations</th>\n",
       "      <td>432</td>\n",
       "    </tr>\n",
       "    <tr>\n",
       "      <th>number of events observed</th>\n",
       "      <td>114</td>\n",
       "    </tr>\n",
       "    <tr>\n",
       "      <th>partial log-likelihood</th>\n",
       "      <td>-658.75</td>\n",
       "    </tr>\n",
       "    <tr>\n",
       "      <th>time fit was run</th>\n",
       "      <td>2025-05-03 22:21:14 UTC</td>\n",
       "    </tr>\n",
       "  </tbody>\n",
       "</table>\n",
       "</div><table border=\"1\" class=\"dataframe\">\n",
       "  <thead>\n",
       "    <tr style=\"text-align: right;\">\n",
       "      <th style=\"min-width: 12px;\"></th>\n",
       "      <th style=\"min-width: 12px;\">coef</th>\n",
       "      <th style=\"min-width: 12px;\">exp(coef)</th>\n",
       "      <th style=\"min-width: 12px;\">se(coef)</th>\n",
       "      <th style=\"min-width: 12px;\">coef lower 95%</th>\n",
       "      <th style=\"min-width: 12px;\">coef upper 95%</th>\n",
       "      <th style=\"min-width: 12px;\">exp(coef) lower 95%</th>\n",
       "      <th style=\"min-width: 12px;\">exp(coef) upper 95%</th>\n",
       "      <th style=\"min-width: 12px;\">cmp to</th>\n",
       "      <th style=\"min-width: 12px;\">z</th>\n",
       "      <th style=\"min-width: 12px;\">p</th>\n",
       "      <th style=\"min-width: 12px;\">-log2(p)</th>\n",
       "    </tr>\n",
       "  </thead>\n",
       "  <tbody>\n",
       "    <tr>\n",
       "      <th>fin</th>\n",
       "      <td>-0.38</td>\n",
       "      <td>0.68</td>\n",
       "      <td>0.19</td>\n",
       "      <td>-0.75</td>\n",
       "      <td>-0.00</td>\n",
       "      <td>0.47</td>\n",
       "      <td>1.00</td>\n",
       "      <td>0.00</td>\n",
       "      <td>-1.98</td>\n",
       "      <td>0.05</td>\n",
       "      <td>4.40</td>\n",
       "    </tr>\n",
       "    <tr>\n",
       "      <th>age</th>\n",
       "      <td>-0.06</td>\n",
       "      <td>0.94</td>\n",
       "      <td>0.02</td>\n",
       "      <td>-0.10</td>\n",
       "      <td>-0.01</td>\n",
       "      <td>0.90</td>\n",
       "      <td>0.99</td>\n",
       "      <td>0.00</td>\n",
       "      <td>-2.61</td>\n",
       "      <td>0.01</td>\n",
       "      <td>6.79</td>\n",
       "    </tr>\n",
       "    <tr>\n",
       "      <th>race</th>\n",
       "      <td>0.31</td>\n",
       "      <td>1.37</td>\n",
       "      <td>0.31</td>\n",
       "      <td>-0.29</td>\n",
       "      <td>0.92</td>\n",
       "      <td>0.75</td>\n",
       "      <td>2.50</td>\n",
       "      <td>0.00</td>\n",
       "      <td>1.02</td>\n",
       "      <td>0.31</td>\n",
       "      <td>1.70</td>\n",
       "    </tr>\n",
       "    <tr>\n",
       "      <th>wexp</th>\n",
       "      <td>-0.15</td>\n",
       "      <td>0.86</td>\n",
       "      <td>0.21</td>\n",
       "      <td>-0.57</td>\n",
       "      <td>0.27</td>\n",
       "      <td>0.57</td>\n",
       "      <td>1.30</td>\n",
       "      <td>0.00</td>\n",
       "      <td>-0.71</td>\n",
       "      <td>0.48</td>\n",
       "      <td>1.06</td>\n",
       "    </tr>\n",
       "    <tr>\n",
       "      <th>mar</th>\n",
       "      <td>-0.43</td>\n",
       "      <td>0.65</td>\n",
       "      <td>0.38</td>\n",
       "      <td>-1.18</td>\n",
       "      <td>0.31</td>\n",
       "      <td>0.31</td>\n",
       "      <td>1.37</td>\n",
       "      <td>0.00</td>\n",
       "      <td>-1.14</td>\n",
       "      <td>0.26</td>\n",
       "      <td>1.97</td>\n",
       "    </tr>\n",
       "    <tr>\n",
       "      <th>paro</th>\n",
       "      <td>-0.08</td>\n",
       "      <td>0.92</td>\n",
       "      <td>0.20</td>\n",
       "      <td>-0.47</td>\n",
       "      <td>0.30</td>\n",
       "      <td>0.63</td>\n",
       "      <td>1.35</td>\n",
       "      <td>0.00</td>\n",
       "      <td>-0.43</td>\n",
       "      <td>0.66</td>\n",
       "      <td>0.59</td>\n",
       "    </tr>\n",
       "    <tr>\n",
       "      <th>prio</th>\n",
       "      <td>0.09</td>\n",
       "      <td>1.10</td>\n",
       "      <td>0.03</td>\n",
       "      <td>0.04</td>\n",
       "      <td>0.15</td>\n",
       "      <td>1.04</td>\n",
       "      <td>1.16</td>\n",
       "      <td>0.00</td>\n",
       "      <td>3.19</td>\n",
       "      <td>&lt;0.005</td>\n",
       "      <td>9.48</td>\n",
       "    </tr>\n",
       "  </tbody>\n",
       "</table><br><div>\n",
       "<style scoped>\n",
       "    .dataframe tbody tr th:only-of-type {\n",
       "        vertical-align: middle;\n",
       "    }\n",
       "\n",
       "    .dataframe tbody tr th {\n",
       "        vertical-align: top;\n",
       "    }\n",
       "\n",
       "    .dataframe thead th {\n",
       "        text-align: right;\n",
       "    }\n",
       "</style>\n",
       "<table border=\"1\" class=\"dataframe\">\n",
       "  <tbody>\n",
       "    <tr>\n",
       "      <th>Concordance</th>\n",
       "      <td>0.64</td>\n",
       "    </tr>\n",
       "    <tr>\n",
       "      <th>Partial AIC</th>\n",
       "      <td>1331.50</td>\n",
       "    </tr>\n",
       "    <tr>\n",
       "      <th>log-likelihood ratio test</th>\n",
       "      <td>33.27 on 7 df</td>\n",
       "    </tr>\n",
       "    <tr>\n",
       "      <th>-log2(p) of ll-ratio test</th>\n",
       "      <td>15.37</td>\n",
       "    </tr>\n",
       "  </tbody>\n",
       "</table>\n",
       "</div>"
      ],
      "text/latex": [
       "\\begin{tabular}{lrrrrrrrrrrr}\n",
       " & coef & exp(coef) & se(coef) & coef lower 95% & coef upper 95% & exp(coef) lower 95% & exp(coef) upper 95% & cmp to & z & p & -log2(p) \\\\\n",
       "covariate &  &  &  &  &  &  &  &  &  &  &  \\\\\n",
       "fin & -0.38 & 0.68 & 0.19 & -0.75 & -0.00 & 0.47 & 1.00 & 0.00 & -1.98 & 0.05 & 4.40 \\\\\n",
       "age & -0.06 & 0.94 & 0.02 & -0.10 & -0.01 & 0.90 & 0.99 & 0.00 & -2.61 & 0.01 & 6.79 \\\\\n",
       "race & 0.31 & 1.37 & 0.31 & -0.29 & 0.92 & 0.75 & 2.50 & 0.00 & 1.02 & 0.31 & 1.70 \\\\\n",
       "wexp & -0.15 & 0.86 & 0.21 & -0.57 & 0.27 & 0.57 & 1.30 & 0.00 & -0.71 & 0.48 & 1.06 \\\\\n",
       "mar & -0.43 & 0.65 & 0.38 & -1.18 & 0.31 & 0.31 & 1.37 & 0.00 & -1.14 & 0.26 & 1.97 \\\\\n",
       "paro & -0.08 & 0.92 & 0.20 & -0.47 & 0.30 & 0.63 & 1.35 & 0.00 & -0.43 & 0.66 & 0.59 \\\\\n",
       "prio & 0.09 & 1.10 & 0.03 & 0.04 & 0.15 & 1.04 & 1.16 & 0.00 & 3.19 & 0.00 & 9.48 \\\\\n",
       "\\end{tabular}\n"
      ],
      "text/plain": [
       "<lifelines.CoxPHFitter: fitted with 432 total observations, 318 right-censored observations>\n",
       "             duration col = 'week'\n",
       "                event col = 'arrest'\n",
       "      baseline estimation = breslow\n",
       "   number of observations = 432\n",
       "number of events observed = 114\n",
       "   partial log-likelihood = -658.75\n",
       "         time fit was run = 2025-05-03 22:21:14 UTC\n",
       "\n",
       "---\n",
       "           coef exp(coef)  se(coef)  coef lower 95%  coef upper 95% exp(coef) lower 95% exp(coef) upper 95%\n",
       "covariate                                                                                                  \n",
       "fin       -0.38      0.68      0.19           -0.75           -0.00                0.47                1.00\n",
       "age       -0.06      0.94      0.02           -0.10           -0.01                0.90                0.99\n",
       "race       0.31      1.37      0.31           -0.29            0.92                0.75                2.50\n",
       "wexp      -0.15      0.86      0.21           -0.57            0.27                0.57                1.30\n",
       "mar       -0.43      0.65      0.38           -1.18            0.31                0.31                1.37\n",
       "paro      -0.08      0.92      0.20           -0.47            0.30                0.63                1.35\n",
       "prio       0.09      1.10      0.03            0.04            0.15                1.04                1.16\n",
       "\n",
       "           cmp to     z      p  -log2(p)\n",
       "covariate                               \n",
       "fin          0.00 -1.98   0.05      4.40\n",
       "age          0.00 -2.61   0.01      6.79\n",
       "race         0.00  1.02   0.31      1.70\n",
       "wexp         0.00 -0.71   0.48      1.06\n",
       "mar          0.00 -1.14   0.26      1.97\n",
       "paro         0.00 -0.43   0.66      0.59\n",
       "prio         0.00  3.19 <0.005      9.48\n",
       "---\n",
       "Concordance = 0.64\n",
       "Partial AIC = 1331.50\n",
       "log-likelihood ratio test = 33.27 on 7 df\n",
       "-log2(p) of ll-ratio test = 15.37"
      ]
     },
     "metadata": {},
     "output_type": "display_data"
    }
   ],
   "source": [
    "from lifelines.datasets import load_rossi\n",
    "rossi = load_rossi() \n",
    "\n",
    "from lifelines import CoxPHFitter\n",
    "cph = CoxPHFitter()\n",
    "cph.fit(rossi, duration_col='week', event_col='arrest')\n",
    "cph.print_summary()"
   ]
  },
  {
   "cell_type": "code",
   "execution_count": 4,
   "id": "49d9c151",
   "metadata": {},
   "outputs": [
    {
     "data": {
      "text/plain": [
       "0.6403292470997135"
      ]
     },
     "execution_count": 4,
     "metadata": {},
     "output_type": "execute_result"
    }
   ],
   "source": [
    "from lifelines.utils.concordance import concordance_index\n",
    "from lifelines.utils import normalize\n",
    "\n",
    "X = rossi.copy()\n",
    "T = X.pop('week')\n",
    "E = X.pop('arrest')\n",
    "\n",
    "beta = cph.params_.values\n",
    "X_norm = normalize(X.values, cph._norm_mean.values, 1)\n",
    "partial_hazards = np.exp(np.dot(X_norm, beta))\n",
    "\n",
    "concordance_index(\n",
    "    event_times = T.values, \n",
    "    predicted_scores = -partial_hazards, \n",
    "    event_observed = E.values\n",
    ")"
   ]
  },
  {
   "cell_type": "code",
   "execution_count": 5,
   "id": "a82e55cf",
   "metadata": {},
   "outputs": [
    {
     "data": {
      "text/plain": [
       "<Axes: xlabel='duration'>"
      ]
     },
     "execution_count": 5,
     "metadata": {},
     "output_type": "execute_result"
    },
    {
     "data": {
      "image/png": "[encoded data removed]",
      "text/plain": [
       "<Figure size 640x480 with 1 Axes>"
      ]
     },
     "metadata": {},
     "output_type": "display_data"
    }
   ],
   "source": [
    "def compute_baseline_hazards(partial_hazards, T, E):\n",
    "    # Here we are computing when expg when there are no events.\n",
    "    #   Could be made faster, by only computing when there are events.\n",
    "    expg = partial_hazards\n",
    "    df = pd.DataFrame(dict(\n",
    "        expg=expg,\n",
    "        event=E,\n",
    "        duration=T,\n",
    "    ))\n",
    "    return (df\n",
    "            .groupby('duration')\n",
    "            .agg('sum')\n",
    "            .sort_index(ascending=False)\n",
    "            .assign(expg=lambda x: x.expg.cumsum())\n",
    "            .pipe(lambda x: x.event/x.expg)\n",
    "            .fillna(0.)\n",
    "            .iloc[::-1]\n",
    "            .rename('baseline_hazards'))\n",
    "\n",
    "def compute_baselime_cumulative_hazards(baseline_hazards):\n",
    "    return baseline_hazards.cumsum()\n",
    "\n",
    "cum_base_haz = compute_baselime_cumulative_hazards(compute_baseline_hazards(partial_hazards, T, E))\n",
    "cum_base_haz.plot()"
   ]
  },
  {
   "cell_type": "code",
   "execution_count": 6,
   "id": "b31b3c0a",
   "metadata": {},
   "outputs": [
    {
     "data": {
      "text/plain": [
       "0    1.219126\n",
       "1    3.230250\n",
       "2    3.031058\n",
       "3    0.487712\n",
       "4    1.214025\n",
       "dtype: float64"
      ]
     },
     "execution_count": 6,
     "metadata": {},
     "output_type": "execute_result"
    }
   ],
   "source": [
    "cph.predict_partial_hazard(X.iloc[0:5])"
   ]
  },
  {
   "cell_type": "code",
   "execution_count": 7,
   "id": "beecfa4e",
   "metadata": {},
   "outputs": [
    {
     "data": {
      "text/plain": [
       "<Axes: >"
      ]
     },
     "execution_count": 7,
     "metadata": {},
     "output_type": "execute_result"
    },
    {
     "data": {
      "image/png": "[encoded data removed]",
      "text/plain": [
       "<Figure size 640x480 with 1 Axes>"
      ]
     },
     "metadata": {},
     "output_type": "display_data"
    }
   ],
   "source": [
    "from lifelines.utils import interpolate_at_times\n",
    "\n",
    "def predict_cumulative_hazard_lifelines(partial_hazards, baseline_cumulative_hazard, times) -> pd.DataFrame:\n",
    "    n = len(partial_hazards)\n",
    "    v = partial_hazards[0:5]\n",
    "\n",
    "    times_to_evaluate_at = np.tile(times, (n, 1))\n",
    "    c_0 = interpolate_at_times(baseline_cumulative_hazard, times_to_evaluate_at).T\n",
    "\n",
    "    cumulative_hazard_ = pd.DataFrame(c_0 * v, columns=range(n), index=times)\n",
    "\n",
    "    return cumulative_hazard_\n",
    "\n",
    "predict_cumulative_hazard_lifelines(cph.predict_partial_hazard(X.iloc[0:5]).values, cph.baseline_cumulative_hazard_, cph.timeline).plot()"
   ]
  },
  {
   "cell_type": "code",
   "execution_count": 8,
   "id": "8cd1ece5",
   "metadata": {},
   "outputs": [
    {
     "data": {
      "text/plain": [
       "<Axes: >"
      ]
     },
     "execution_count": 8,
     "metadata": {},
     "output_type": "execute_result"
    },
    {
     "data": {
      "image/png": "[encoded data removed]",
      "text/plain": [
       "<Figure size 640x480 with 1 Axes>"
      ]
     },
     "metadata": {},
     "output_type": "display_data"
    }
   ],
   "source": [
    "predict_cumulative_hazard_lifelines(partial_hazards[0:5], cum_base_haz, cph.timeline).plot()"
   ]
  },
  {
   "cell_type": "code",
   "execution_count": 9,
   "id": "dd245024",
   "metadata": {},
   "outputs": [
    {
     "data": {
      "text/plain": [
       "-5.985998659506427"
      ]
     },
     "execution_count": 9,
     "metadata": {},
     "output_type": "execute_result"
    }
   ],
   "source": [
    "from pycox.evaluation.metrics import partial_log_likelihood_ph\n",
    "\n",
    "partial_log_likelihood_ph(\n",
    "    log_partial_hazards=partial_hazards,\n",
    "    durations=T,\n",
    "    events=E,\n",
    "    mean=True\n",
    ")"
   ]
  },
  {
   "cell_type": "code",
   "execution_count": 10,
   "id": "48dbbbd3",
   "metadata": {},
   "outputs": [
    {
     "data": {
      "text/plain": [
       "-1.5248788413103833"
      ]
     },
     "execution_count": 10,
     "metadata": {},
     "output_type": "execute_result"
    }
   ],
   "source": [
    "cph.score(rossi, scoring_method=\"log_likelihood\")"
   ]
  },
  {
   "cell_type": "code",
   "execution_count": null,
   "id": "ba43feef",
   "metadata": {},
   "outputs": [],
   "source": []
  },
  {
   "cell_type": "code",
   "execution_count": 26,
   "id": "3a3f9ac5",
   "metadata": {},
   "outputs": [
    {
     "data": {
      "text/plain": [
       "5.946830670658149"
      ]
     },
     "execution_count": 26,
     "metadata": {},
     "output_type": "execute_result"
    }
   ],
   "source": [
    "def deepsurv_loss_ez(y_pred, y_true, E):\n",
    "    loss = 0\n",
    "    n = len(y_true)\n",
    "    for i in range(n): \n",
    "        if E[i] != 1: \n",
    "            continue \n",
    "        inner_sum = 0 \n",
    "        for j in range(n): \n",
    "            if y_true[j] >= y_true[i]:\n",
    "                inner_sum += np.exp(y_pred[j] - y_pred[i])\n",
    "\n",
    "        loss += np.log(inner_sum)\n",
    "    loss = loss/n\n",
    "    loss\n",
    "\n",
    "def deepsurv_loss_hard(y_pred, y_true, E, eps = 1e-7): \n",
    "    df = pd.DataFrame(dict(\n",
    "        y_pred=y_pred,\n",
    "        y_true=y_true,\n",
    "        E=E\n",
    "    )).sort_values('y_true', ascending=False)\n",
    "    \n",
    "    events = df.E \n",
    "    log_h = df.y_pred \n",
    "    gamma = log_h.max() \n",
    "    log_cumsum_h = np.log(np.exp(log_h.sub(gamma)).cumsum(0).add(eps)).add(gamma)\n",
    "    return - log_h.sub(log_cumsum_h).mul(events).sum() / events.sum()\n",
    "\n",
    "deepsurv_loss_hard(partial_hazards, T, E)\n"
   ]
  },
  {
   "cell_type": "code",
   "execution_count": 121,
   "id": "5788f37e",
   "metadata": {},
   "outputs": [
    {
     "data": {
      "text/plain": [
       "-5.985998659506427"
      ]
     },
     "execution_count": 121,
     "metadata": {},
     "output_type": "execute_result"
    }
   ],
   "source": [
    "df = pd.DataFrame(dict(duration=T, event=E, lph=partial_hazards))\n",
    "pll = (df\n",
    "    .sort_values('duration', ascending=False)\n",
    "    .assign(cum_ph=(lambda x: x['lph']\n",
    "                        .pipe(np.exp)\n",
    "                        .cumsum()\n",
    "                        .groupby(x['duration'])\n",
    "                        .transform('max')))\n",
    "    .loc[lambda x: x['event'] == 1]\n",
    "    .assign(pll=lambda x: x['lph'] - np.log(x['cum_ph']))\n",
    "    ['pll'])\n",
    "pll.mean()\n"
   ]
  },
  {
   "cell_type": "code",
   "execution_count": 110,
   "id": "bf57b69f",
   "metadata": {},
   "outputs": [
    {
     "data": {
      "text/plain": [
       "-1.5248788413103833"
      ]
     },
     "execution_count": 110,
     "metadata": {},
     "output_type": "execute_result"
    }
   ],
   "source": [
    "def partial_log_likelihood_lifelines(partial_hazards: np.array, T: pd.Series, E: pd.Series):\n",
    "    ordering = np.lexsort((E, T))\n",
    "    T = T.values[ordering]\n",
    "    E = E.values[ordering]\n",
    "    partial_hazards = partial_hazards[ordering]\n",
    "    n = len(E)\n",
    "\n",
    "    log_lik = 0\n",
    "\n",
    "    # Init risk and tie sums to zero\n",
    "    x_death_sum = 0\n",
    "    risk_phi, tie_phi = 0, 0\n",
    "\n",
    "    # Init number of ties and weights\n",
    "    weight_count = 0.0\n",
    "    tied_death_counts = 0\n",
    "\n",
    "    # Iterate backwards to utilize recursive relationship\n",
    "    for i in range(n - 1, -1, -1):\n",
    "        # Doing it like this to preserve shape\n",
    "        ei = E[i]\n",
    "\n",
    "        # Calculate phi values\n",
    "        phi_i = partial_hazards[i]\n",
    "        \n",
    "        # Calculate sums of Risk set\n",
    "        risk_phi = risk_phi + phi_i\n",
    "\n",
    "        # Calculate sums of Ties, if this is an event\n",
    "        if ei:\n",
    "            x_death_sum = x_death_sum + np.log(partial_hazards[i])\n",
    "            tie_phi = tie_phi + phi_i\n",
    "\n",
    "            # Keep track of count\n",
    "            tied_death_counts += 1\n",
    "            weight_count += 1\n",
    "\n",
    "        # There are no more ties/members of the risk set and there are uncensored with the current time\n",
    "        if not (i > 0 and T[i] == T[i - 1]) and tied_death_counts != 0:\n",
    "            # There was at least one event and no more ties remain. Time to sum.\n",
    "            # This code is near identical to the _batch algorithm below. In fact, see _batch for comments.\n",
    "            weighted_average = weight_count / tied_death_counts\n",
    "\n",
    "            if tied_death_counts > 1:\n",
    "                increasing_proportion = np.arange(tied_death_counts) / tied_death_counts\n",
    "                denom = 1.0 / (risk_phi - increasing_proportion * tie_phi)\n",
    "            else:\n",
    "                denom = 1.0 / np.array([risk_phi])\n",
    "\n",
    "            log_lik = log_lik + x_death_sum + weighted_average * np.log(denom).sum()\n",
    "            \n",
    "            # reset tie values\n",
    "            tied_death_counts = 0\n",
    "            weight_count = 0.0\n",
    "            x_death_sum = 0\n",
    "            tie_phi = 0\n",
    "\n",
    "    return log_lik/n\n",
    "\n",
    "partial_log_likelihood_lifelines(partial_hazards, T, E)"
   ]
  }
 ],
 "metadata": {
  "kernelspec": {
   "display_name": "Python 3",
   "language": "python",
   "name": "python3"
  },
  "language_info": {
   "codemirror_mode": {
    "name": "ipython",
    "version": 3
   },
   "file_extension": ".py",
   "mimetype": "text/x-python",
   "name": "python",
   "nbconvert_exporter": "python",
   "pygments_lexer": "ipython3",
   "version": "3.9.22"
  }
 },
 "nbformat": 4,
 "nbformat_minor": 5
}
