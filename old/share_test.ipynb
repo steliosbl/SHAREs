{
 "cells": [
  {
   "cell_type": "markdown",
   "id": "c70a25e5",
   "metadata": {},
   "source": [
    "# SHAREs Tests"
   ]
  },
  {
   "cell_type": "code",
   "execution_count": null,
   "id": "ef7c07a7",
   "metadata": {},
   "outputs": [
    {
     "data": {
      "text/plain": [
       "False"
      ]
     },
     "execution_count": 1,
     "metadata": {},
     "output_type": "execute_result"
    }
   ],
   "source": [
    "import numpy as np \n",
    "import pandas as pd \n",
    "import torch \n",
    "import matplotlib.pyplot as plt\n",
    "import seaborn as sns\n",
    "\n",
    "sns.set_style(\"whitegrid\")\n",
    "sns.set_palette(\"colorblind\")\n",
    "torch.cuda.is_available()"
   ]
  },
  {
   "cell_type": "code",
   "execution_count": 51,
   "id": "c324538b",
   "metadata": {},
   "outputs": [
    {
     "data": {
      "text/html": [
       "<div>\n",
       "<style scoped>\n",
       "    .dataframe tbody tr th:only-of-type {\n",
       "        vertical-align: middle;\n",
       "    }\n",
       "\n",
       "    .dataframe tbody tr th {\n",
       "        vertical-align: top;\n",
       "    }\n",
       "\n",
       "    .dataframe thead th {\n",
       "        text-align: right;\n",
       "    }\n",
       "</style>\n",
       "<table border=\"1\" class=\"dataframe\">\n",
       "  <thead>\n",
       "    <tr style=\"text-align: right;\">\n",
       "      <th></th>\n",
       "      <th>id</th>\n",
       "      <th>equation</th>\n",
       "      <th>raw_fitness</th>\n",
       "      <th>r2</th>\n",
       "    </tr>\n",
       "  </thead>\n",
       "  <tbody>\n",
       "    <tr>\n",
       "      <th>48</th>\n",
       "      <td>48</td>\n",
       "      <td>div(mul(mul(mul(mul(mul(mul(add(shape(X5), sha...</td>\n",
       "      <td>0.504778</td>\n",
       "      <td>-2.774305</td>\n",
       "    </tr>\n",
       "    <tr>\n",
       "      <th>46</th>\n",
       "      <td>46</td>\n",
       "      <td>div(X0, shape(mul(shape(div(div(shape(X7), sha...</td>\n",
       "      <td>0.493765</td>\n",
       "      <td>-2.774687</td>\n",
       "    </tr>\n",
       "    <tr>\n",
       "      <th>5</th>\n",
       "      <td>5</td>\n",
       "      <td>div(div(shape(add(mul(mul(shape(add(mul(shape(...</td>\n",
       "      <td>0.489732</td>\n",
       "      <td>-2.744673</td>\n",
       "    </tr>\n",
       "    <tr>\n",
       "      <th>51</th>\n",
       "      <td>51</td>\n",
       "      <td>div(shape(X4), div(add(shape(div(shape(X0), X3...</td>\n",
       "      <td>0.486540</td>\n",
       "      <td>-2.773405</td>\n",
       "    </tr>\n",
       "    <tr>\n",
       "      <th>53</th>\n",
       "      <td>53</td>\n",
       "      <td>div(shape(div(mul(mul(shape(mul(shape(add(add(...</td>\n",
       "      <td>0.474620</td>\n",
       "      <td>-2.755955</td>\n",
       "    </tr>\n",
       "    <tr>\n",
       "      <th>...</th>\n",
       "      <td>...</td>\n",
       "      <td>...</td>\n",
       "      <td>...</td>\n",
       "      <td>...</td>\n",
       "    </tr>\n",
       "    <tr>\n",
       "      <th>61</th>\n",
       "      <td>61</td>\n",
       "      <td>shape(mul(X1, add(shape(X3), shape(X7))))</td>\n",
       "      <td>-6.138951</td>\n",
       "      <td>0.002147</td>\n",
       "    </tr>\n",
       "    <tr>\n",
       "      <th>54</th>\n",
       "      <td>54</td>\n",
       "      <td>mul(add(mul(mul(mul(add(mul(shape(X3), shape(X...</td>\n",
       "      <td>-6.193557</td>\n",
       "      <td>0.057386</td>\n",
       "    </tr>\n",
       "    <tr>\n",
       "      <th>50</th>\n",
       "      <td>50</td>\n",
       "      <td>add(X8, add(shape(add(shape(X7), shape(X6))), ...</td>\n",
       "      <td>-6.281789</td>\n",
       "      <td>-0.130586</td>\n",
       "    </tr>\n",
       "    <tr>\n",
       "      <th>6</th>\n",
       "      <td>6</td>\n",
       "      <td>mul(mul(shape(div(shape(add(mul(add(div(shape(...</td>\n",
       "      <td>-6.473228</td>\n",
       "      <td>-1.288759</td>\n",
       "    </tr>\n",
       "    <tr>\n",
       "      <th>16</th>\n",
       "      <td>16</td>\n",
       "      <td>mul(div(add(shape(add(div(mul(shape(X0), shape...</td>\n",
       "      <td>-138.486804</td>\n",
       "      <td>-1623.594849</td>\n",
       "    </tr>\n",
       "  </tbody>\n",
       "</table>\n",
       "<p>69 rows × 4 columns</p>\n",
       "</div>"
      ],
      "text/plain": [
       "    id                                           equation  raw_fitness  \\\n",
       "48  48  div(mul(mul(mul(mul(mul(mul(add(shape(X5), sha...     0.504778   \n",
       "46  46  div(X0, shape(mul(shape(div(div(shape(X7), sha...     0.493765   \n",
       "5    5  div(div(shape(add(mul(mul(shape(add(mul(shape(...     0.489732   \n",
       "51  51  div(shape(X4), div(add(shape(div(shape(X0), X3...     0.486540   \n",
       "53  53  div(shape(div(mul(mul(shape(mul(shape(add(add(...     0.474620   \n",
       "..  ..                                                ...          ...   \n",
       "61  61          shape(mul(X1, add(shape(X3), shape(X7))))    -6.138951   \n",
       "54  54  mul(add(mul(mul(mul(add(mul(shape(X3), shape(X...    -6.193557   \n",
       "50  50  add(X8, add(shape(add(shape(X7), shape(X6))), ...    -6.281789   \n",
       "6    6  mul(mul(shape(div(shape(add(mul(add(div(shape(...    -6.473228   \n",
       "16  16  mul(div(add(shape(add(div(mul(shape(X0), shape...  -138.486804   \n",
       "\n",
       "             r2  \n",
       "48    -2.774305  \n",
       "46    -2.774687  \n",
       "5     -2.744673  \n",
       "51    -2.773405  \n",
       "53    -2.755955  \n",
       "..          ...  \n",
       "61     0.002147  \n",
       "54     0.057386  \n",
       "50    -0.130586  \n",
       "6     -1.288759  \n",
       "16 -1623.594849  \n",
       "\n",
       "[69 rows x 4 columns]"
      ]
     },
     "execution_count": 51,
     "metadata": {},
     "output_type": "execute_result"
    }
   ],
   "source": [
    "res_df = pd.read_csv(f\"data/checkpoints/metabric_c_shrink/2025-05-05T20.07.47/dictionary.csv\")\n",
    "res_df = res_df.sort_values(by=\"raw_fitness\", ascending=False)\n",
    "res_df"
   ]
  },
  {
   "cell_type": "code",
   "execution_count": 52,
   "id": "4bfb28fa",
   "metadata": {},
   "outputs": [
    {
     "name": "stdout",
     "output_type": "stream",
     "text": [
      "mul(mul(add(div(mul(mul(add(shape(X1), shape(X3)), shape(X0)), shape(X5)), shape(X4)), shape(X7)), shape(X2)), shape(X6))\n"
     ]
    },
    {
     "name": "stderr",
     "output_type": "stream",
     "text": [
      "/rds/user/sb2690/hpc-work/software/micromamba/envs/shares/lib/python3.9/site-packages/lightning_fabric/utilities/cloud_io.py:48: FutureWarning: You are using `torch.load` with `weights_only=False` (the current default value), which uses the default pickle module implicitly. It is possible to construct malicious pickle data which will execute arbitrary code during unpickling (See https://github.com/pytorch/pytorch/blob/main/SECURITY.md#untrusted-models for more details). In a future release, the default value for `weights_only` will be flipped to `True`. This limits the functions that could be executed during unpickling. Arbitrary objects will no longer be allowed to be loaded via this mode unless they are explicitly allowlisted by the user via `torch.serialization.add_safe_globals`. We recommend you start setting `weights_only=True` for any use case where you don't have full control of the loaded file. Please open an issue on GitHub for any issues related to this experimental feature.\n",
      "  return torch.load(f, map_location=map_location)\n"
     ]
    },
    {
     "ename": "RuntimeError",
     "evalue": "Error(s) in loading state_dict for LitModel:\n\tMissing key(s) in state_dict: \"shape_functions.4.batch_norm.weight\", \"shape_functions.4.batch_norm.bias\", \"shape_functions.4.batch_norm.running_mean\", \"shape_functions.4.batch_norm.running_var\", \"shape_functions.4.input_layer.weight\", \"shape_functions.4.input_layer.bias\", \"shape_functions.4.output_layer.weight\", \"shape_functions.4.output_layer.bias\", \"shape_functions.4.nn.0.weight\", \"shape_functions.4.nn.0.bias\", \"shape_functions.4.nn.0.running_mean\", \"shape_functions.4.nn.0.running_var\", \"shape_functions.4.nn.1.weight\", \"shape_functions.4.nn.1.bias\", \"shape_functions.4.nn.3.weight\", \"shape_functions.4.nn.3.bias\", \"shape_functions.4.nn.5.weight\", \"shape_functions.4.nn.5.bias\", \"shape_functions.4.nn.7.weight\", \"shape_functions.4.nn.7.bias\", \"shape_functions.4.nn.9.weight\", \"shape_functions.4.nn.9.bias\", \"shape_functions.4.nn.11.weight\", \"shape_functions.4.nn.11.bias\", \"shape_functions.4.nn.13.weight\", \"shape_functions.4.nn.13.bias\", \"shape_functions.5.batch_norm.weight\", \"shape_functions.5.batch_norm.bias\", \"shape_functions.5.batch_norm.running_mean\", \"shape_functions.5.batch_norm.running_var\", \"shape_functions.5.input_layer.weight\", \"shape_functions.5.input_layer.bias\", \"shape_functions.5.output_layer.weight\", \"shape_functions.5.output_layer.bias\", \"shape_functions.5.nn.0.weight\", \"shape_functions.5.nn.0.bias\", \"shape_functions.5.nn.0.running_mean\", \"shape_functions.5.nn.0.running_var\", \"shape_functions.5.nn.1.weight\", \"shape_functions.5.nn.1.bias\", \"shape_functions.5.nn.3.weight\", \"shape_functions.5.nn.3.bias\", \"shape_functions.5.nn.5.weight\", \"shape_functions.5.nn.5.bias\", \"shape_functions.5.nn.7.weight\", \"shape_functions.5.nn.7.bias\", \"shape_functions.5.nn.9.weight\", \"shape_functions.5.nn.9.bias\", \"shape_functions.5.nn.11.weight\", \"shape_functions.5.nn.11.bias\", \"shape_functions.5.nn.13.weight\", \"shape_functions.5.nn.13.bias\", \"shape_functions.6.batch_norm.weight\", \"shape_functions.6.batch_norm.bias\", \"shape_functions.6.batch_norm.running_mean\", \"shape_functions.6.batch_norm.running_var\", \"shape_functions.6.input_layer.weight\", \"shape_functions.6.input_layer.bias\", \"shape_functions.6.output_layer.weight\", \"shape_functions.6.output_layer.bias\", \"shape_functions.6.nn.0.weight\", \"shape_functions.6.nn.0.bias\", \"shape_functions.6.nn.0.running_mean\", \"shape_functions.6.nn.0.running_var\", \"shape_functions.6.nn.1.weight\", \"shape_functions.6.nn.1.bias\", \"shape_functions.6.nn.3.weight\", \"shape_functions.6.nn.3.bias\", \"shape_functions.6.nn.5.weight\", \"shape_functions.6.nn.5.bias\", \"shape_functions.6.nn.7.weight\", \"shape_functions.6.nn.7.bias\", \"shape_functions.6.nn.9.weight\", \"shape_functions.6.nn.9.bias\", \"shape_functions.6.nn.11.weight\", \"shape_functions.6.nn.11.bias\", \"shape_functions.6.nn.13.weight\", \"shape_functions.6.nn.13.bias\", \"shape_functions.7.batch_norm.weight\", \"shape_functions.7.batch_norm.bias\", \"shape_functions.7.batch_norm.running_mean\", \"shape_functions.7.batch_norm.running_var\", \"shape_functions.7.input_layer.weight\", \"shape_functions.7.input_layer.bias\", \"shape_functions.7.output_layer.weight\", \"shape_functions.7.output_layer.bias\", \"shape_functions.7.nn.0.weight\", \"shape_functions.7.nn.0.bias\", \"shape_functions.7.nn.0.running_mean\", \"shape_functions.7.nn.0.running_var\", \"shape_functions.7.nn.1.weight\", \"shape_functions.7.nn.1.bias\", \"shape_functions.7.nn.3.weight\", \"shape_functions.7.nn.3.bias\", \"shape_functions.7.nn.5.weight\", \"shape_functions.7.nn.5.bias\", \"shape_functions.7.nn.7.weight\", \"shape_functions.7.nn.7.bias\", \"shape_functions.7.nn.9.weight\", \"shape_functions.7.nn.9.bias\", \"shape_functions.7.nn.11.weight\", \"shape_functions.7.nn.11.bias\", \"shape_functions.7.nn.13.weight\", \"shape_functions.7.nn.13.bias\". \n\tUnexpected key(s) in state_dict: \"cat_shape_functions.4\", \"cat_shape_functions.5\", \"cat_shape_functions.6\", \"cat_shape_functions.7\". ",
     "output_type": "error",
     "traceback": [
      "\u001b[0;31m---------------------------------------------------------------------------\u001b[0m",
      "\u001b[0;31mRuntimeError\u001b[0m                              Traceback (most recent call last)",
      "Cell \u001b[0;32mIn[52], line 6\u001b[0m\n\u001b[1;32m      4\u001b[0m \u001b[38;5;28mid\u001b[39m \u001b[38;5;241m=\u001b[39m res_df\u001b[38;5;241m.\u001b[39mloc[\u001b[38;5;241m29\u001b[39m, \u001b[38;5;124m'\u001b[39m\u001b[38;5;124mid\u001b[39m\u001b[38;5;124m'\u001b[39m]\n\u001b[1;32m      5\u001b[0m timestamp \u001b[38;5;241m=\u001b[39m \u001b[38;5;124m\"\u001b[39m\u001b[38;5;124m2025-05-05T20.07.47\u001b[39m\u001b[38;5;124m\"\u001b[39m\n\u001b[0;32m----> 6\u001b[0m esr_best \u001b[38;5;241m=\u001b[39m \u001b[43mload_share_from_checkpoint\u001b[49m\u001b[43m(\u001b[49m\n\u001b[1;32m      7\u001b[0m \u001b[43m    \u001b[49m\u001b[43mtimestamp\u001b[49m\u001b[43m,\u001b[49m\u001b[43m \u001b[49m\u001b[43meq\u001b[49m\u001b[43m,\u001b[49m\u001b[43m \u001b[49m\n\u001b[1;32m      8\u001b[0m \u001b[43m    \u001b[49m\u001b[43mcheckpoint_dir\u001b[49m\u001b[38;5;241;43m=\u001b[39;49m\u001b[38;5;124;43m'\u001b[39;49m\u001b[38;5;124;43mdata/checkpoints/metabric_c_shrink\u001b[39;49m\u001b[38;5;124;43m'\u001b[39;49m\u001b[43m,\u001b[49m\u001b[43m \u001b[49m\n\u001b[1;32m      9\u001b[0m \u001b[43m    \u001b[49m\u001b[43mtask\u001b[49m\u001b[38;5;241;43m=\u001b[39;49m\u001b[38;5;124;43m'\u001b[39;49m\u001b[38;5;124;43mregression\u001b[39;49m\u001b[38;5;124;43m'\u001b[39;49m\u001b[43m,\u001b[49m\n\u001b[1;32m     10\u001b[0m \u001b[43m    \u001b[49m\u001b[43mn_features\u001b[49m\u001b[38;5;241;43m=\u001b[39;49m\u001b[38;5;241;43m7\u001b[39;49m\u001b[43m,\u001b[49m\u001b[43m \u001b[49m\n\u001b[1;32m     11\u001b[0m \u001b[43m    \u001b[49m\u001b[43mequation_id\u001b[49m\u001b[38;5;241;43m=\u001b[39;49m\u001b[38;5;28;43mid\u001b[39;49m\n\u001b[1;32m     12\u001b[0m \u001b[43m)\u001b[49m\n\u001b[1;32m     13\u001b[0m esr_best\n",
      "File \u001b[0;32m/rds/user/sb2690/hpc-work/SHAREs/experiments/utils.py:219\u001b[0m, in \u001b[0;36mload_share_from_checkpoint\u001b[0;34m(timestamp, program, checkpoint_dir, task, n_features, equation_id, categorical_variables_dict, constructor_dict, shape_class)\u001b[0m\n\u001b[1;32m    214\u001b[0m     full_path \u001b[38;5;241m=\u001b[39m os\u001b[38;5;241m.\u001b[39mpath\u001b[38;5;241m.\u001b[39mjoin(checkpoint_dir,timestamp,\u001b[38;5;124mf\u001b[39m\u001b[38;5;124m\"\u001b[39m\u001b[38;5;132;01m{\u001b[39;00mequation_id\u001b[38;5;132;01m}\u001b[39;00m\u001b[38;5;124m-best_val_loss.ckpt\u001b[39m\u001b[38;5;124m\"\u001b[39m)\n\u001b[1;32m    216\u001b[0m \u001b[38;5;28;01mif\u001b[39;00m program\u001b[38;5;241m.\u001b[39mis_fitting_necessary([]):\n\u001b[1;32m    217\u001b[0m     \u001b[38;5;66;03m# model = LitModel(program)\u001b[39;00m\n\u001b[1;32m    218\u001b[0m     \u001b[38;5;66;03m# print(model)\u001b[39;00m\n\u001b[0;32m--> 219\u001b[0m     model \u001b[38;5;241m=\u001b[39m \u001b[43mLitModel\u001b[49m\u001b[38;5;241;43m.\u001b[39;49m\u001b[43mload_from_checkpoint\u001b[49m\u001b[43m(\u001b[49m\u001b[43mfull_path\u001b[49m\u001b[43m,\u001b[49m\u001b[43m \u001b[49m\u001b[43mprogram\u001b[49m\u001b[38;5;241;43m=\u001b[39;49m\u001b[43mprogram\u001b[49m\u001b[43m,\u001b[49m\u001b[43mstrict\u001b[49m\u001b[38;5;241;43m=\u001b[39;49m\u001b[38;5;28;43;01mTrue\u001b[39;49;00m\u001b[43m)\u001b[49m\n\u001b[1;32m    220\u001b[0m     program\u001b[38;5;241m.\u001b[39mmodel \u001b[38;5;241m=\u001b[39m model\n\u001b[1;32m    222\u001b[0m esr \u001b[38;5;241m=\u001b[39m SymbolicRegressor(\u001b[38;5;241m*\u001b[39m\u001b[38;5;241m*\u001b[39mgp_config, categorical_variables\u001b[38;5;241m=\u001b[39mcategorical_variables_dict)\n",
      "File \u001b[0;32m/rds/user/sb2690/hpc-work/software/micromamba/envs/shares/lib/python3.9/site-packages/pytorch_lightning/core/saving.py:139\u001b[0m, in \u001b[0;36mModelIO.load_from_checkpoint\u001b[0;34m(cls, checkpoint_path, map_location, hparams_file, strict, **kwargs)\u001b[0m\n\u001b[1;32m     59\u001b[0m \u001b[38;5;129m@classmethod\u001b[39m\n\u001b[1;32m     60\u001b[0m \u001b[38;5;28;01mdef\u001b[39;00m\u001b[38;5;250m \u001b[39m\u001b[38;5;21mload_from_checkpoint\u001b[39m(\n\u001b[1;32m     61\u001b[0m     \u001b[38;5;28mcls\u001b[39m,\n\u001b[0;32m   (...)\u001b[0m\n\u001b[1;32m     66\u001b[0m     \u001b[38;5;241m*\u001b[39m\u001b[38;5;241m*\u001b[39mkwargs: Any,\n\u001b[1;32m     67\u001b[0m ) \u001b[38;5;241m-\u001b[39m\u001b[38;5;241m>\u001b[39m Self:  \u001b[38;5;66;03m# type: ignore[valid-type]\u001b[39;00m\n\u001b[1;32m     68\u001b[0m \u001b[38;5;250m    \u001b[39m\u001b[38;5;124mr\u001b[39m\u001b[38;5;124;03m\"\"\"\u001b[39;00m\n\u001b[1;32m     69\u001b[0m \u001b[38;5;124;03m    Primary way of loading a model from a checkpoint. When Lightning saves a checkpoint\u001b[39;00m\n\u001b[1;32m     70\u001b[0m \u001b[38;5;124;03m    it stores the arguments passed to ``__init__``  in the checkpoint under ``\"hyper_parameters\"``.\u001b[39;00m\n\u001b[0;32m   (...)\u001b[0m\n\u001b[1;32m    137\u001b[0m \u001b[38;5;124;03m        y_hat = pretrained_model(x)\u001b[39;00m\n\u001b[1;32m    138\u001b[0m \u001b[38;5;124;03m    \"\"\"\u001b[39;00m\n\u001b[0;32m--> 139\u001b[0m     \u001b[38;5;28;01mreturn\u001b[39;00m \u001b[43m_load_from_checkpoint\u001b[49m\u001b[43m(\u001b[49m\n\u001b[1;32m    140\u001b[0m \u001b[43m        \u001b[49m\u001b[38;5;28;43mcls\u001b[39;49m\u001b[43m,\u001b[49m\n\u001b[1;32m    141\u001b[0m \u001b[43m        \u001b[49m\u001b[43mcheckpoint_path\u001b[49m\u001b[43m,\u001b[49m\n\u001b[1;32m    142\u001b[0m \u001b[43m        \u001b[49m\u001b[43mmap_location\u001b[49m\u001b[43m,\u001b[49m\n\u001b[1;32m    143\u001b[0m \u001b[43m        \u001b[49m\u001b[43mhparams_file\u001b[49m\u001b[43m,\u001b[49m\n\u001b[1;32m    144\u001b[0m \u001b[43m        \u001b[49m\u001b[43mstrict\u001b[49m\u001b[43m,\u001b[49m\n\u001b[1;32m    145\u001b[0m \u001b[43m        \u001b[49m\u001b[38;5;241;43m*\u001b[39;49m\u001b[38;5;241;43m*\u001b[39;49m\u001b[43mkwargs\u001b[49m\u001b[43m,\u001b[49m\n\u001b[1;32m    146\u001b[0m \u001b[43m    \u001b[49m\u001b[43m)\u001b[49m\n",
      "File \u001b[0;32m/rds/user/sb2690/hpc-work/software/micromamba/envs/shares/lib/python3.9/site-packages/pytorch_lightning/core/saving.py:188\u001b[0m, in \u001b[0;36m_load_from_checkpoint\u001b[0;34m(cls, checkpoint_path, map_location, hparams_file, strict, **kwargs)\u001b[0m\n\u001b[1;32m    186\u001b[0m     \u001b[38;5;28;01mreturn\u001b[39;00m _load_state(\u001b[38;5;28mcls\u001b[39m, checkpoint, \u001b[38;5;241m*\u001b[39m\u001b[38;5;241m*\u001b[39mkwargs)\n\u001b[1;32m    187\u001b[0m \u001b[38;5;28;01mif\u001b[39;00m \u001b[38;5;28missubclass\u001b[39m(\u001b[38;5;28mcls\u001b[39m, pl\u001b[38;5;241m.\u001b[39mLightningModule):\n\u001b[0;32m--> 188\u001b[0m     \u001b[38;5;28;01mreturn\u001b[39;00m \u001b[43m_load_state\u001b[49m\u001b[43m(\u001b[49m\u001b[38;5;28;43mcls\u001b[39;49m\u001b[43m,\u001b[49m\u001b[43m \u001b[49m\u001b[43mcheckpoint\u001b[49m\u001b[43m,\u001b[49m\u001b[43m \u001b[49m\u001b[43mstrict\u001b[49m\u001b[38;5;241;43m=\u001b[39;49m\u001b[43mstrict\u001b[49m\u001b[43m,\u001b[49m\u001b[43m \u001b[49m\u001b[38;5;241;43m*\u001b[39;49m\u001b[38;5;241;43m*\u001b[39;49m\u001b[43mkwargs\u001b[49m\u001b[43m)\u001b[49m\n\u001b[1;32m    189\u001b[0m \u001b[38;5;28;01mraise\u001b[39;00m \u001b[38;5;167;01mNotImplementedError\u001b[39;00m(\u001b[38;5;124mf\u001b[39m\u001b[38;5;124m\"\u001b[39m\u001b[38;5;124mUnsupported \u001b[39m\u001b[38;5;132;01m{\u001b[39;00m\u001b[38;5;28mcls\u001b[39m\u001b[38;5;132;01m}\u001b[39;00m\u001b[38;5;124m\"\u001b[39m)\n",
      "File \u001b[0;32m/rds/user/sb2690/hpc-work/software/micromamba/envs/shares/lib/python3.9/site-packages/pytorch_lightning/core/saving.py:247\u001b[0m, in \u001b[0;36m_load_state\u001b[0;34m(cls, checkpoint, strict, **cls_kwargs_new)\u001b[0m\n\u001b[1;32m    245\u001b[0m \u001b[38;5;66;03m# load the state_dict on the model automatically\u001b[39;00m\n\u001b[1;32m    246\u001b[0m \u001b[38;5;28;01massert\u001b[39;00m strict \u001b[38;5;129;01mis\u001b[39;00m \u001b[38;5;129;01mnot\u001b[39;00m \u001b[38;5;28;01mNone\u001b[39;00m\n\u001b[0;32m--> 247\u001b[0m keys \u001b[38;5;241m=\u001b[39m \u001b[43mobj\u001b[49m\u001b[38;5;241;43m.\u001b[39;49m\u001b[43mload_state_dict\u001b[49m\u001b[43m(\u001b[49m\u001b[43mcheckpoint\u001b[49m\u001b[43m[\u001b[49m\u001b[38;5;124;43m\"\u001b[39;49m\u001b[38;5;124;43mstate_dict\u001b[39;49m\u001b[38;5;124;43m\"\u001b[39;49m\u001b[43m]\u001b[49m\u001b[43m,\u001b[49m\u001b[43m \u001b[49m\u001b[43mstrict\u001b[49m\u001b[38;5;241;43m=\u001b[39;49m\u001b[43mstrict\u001b[49m\u001b[43m)\u001b[49m\n\u001b[1;32m    249\u001b[0m \u001b[38;5;28;01mif\u001b[39;00m \u001b[38;5;129;01mnot\u001b[39;00m strict:\n\u001b[1;32m    250\u001b[0m     \u001b[38;5;28;01mif\u001b[39;00m keys\u001b[38;5;241m.\u001b[39mmissing_keys:\n",
      "File \u001b[0;32m/rds/user/sb2690/hpc-work/software/micromamba/envs/shares/lib/python3.9/site-packages/torch/nn/modules/module.py:2584\u001b[0m, in \u001b[0;36mModule.load_state_dict\u001b[0;34m(self, state_dict, strict, assign)\u001b[0m\n\u001b[1;32m   2576\u001b[0m         error_msgs\u001b[38;5;241m.\u001b[39minsert(\n\u001b[1;32m   2577\u001b[0m             \u001b[38;5;241m0\u001b[39m,\n\u001b[1;32m   2578\u001b[0m             \u001b[38;5;124m\"\u001b[39m\u001b[38;5;124mMissing key(s) in state_dict: \u001b[39m\u001b[38;5;132;01m{}\u001b[39;00m\u001b[38;5;124m. \u001b[39m\u001b[38;5;124m\"\u001b[39m\u001b[38;5;241m.\u001b[39mformat(\n\u001b[1;32m   2579\u001b[0m                 \u001b[38;5;124m\"\u001b[39m\u001b[38;5;124m, \u001b[39m\u001b[38;5;124m\"\u001b[39m\u001b[38;5;241m.\u001b[39mjoin(\u001b[38;5;124mf\u001b[39m\u001b[38;5;124m'\u001b[39m\u001b[38;5;124m\"\u001b[39m\u001b[38;5;132;01m{\u001b[39;00mk\u001b[38;5;132;01m}\u001b[39;00m\u001b[38;5;124m\"\u001b[39m\u001b[38;5;124m'\u001b[39m \u001b[38;5;28;01mfor\u001b[39;00m k \u001b[38;5;129;01min\u001b[39;00m missing_keys)\n\u001b[1;32m   2580\u001b[0m             ),\n\u001b[1;32m   2581\u001b[0m         )\n\u001b[1;32m   2583\u001b[0m \u001b[38;5;28;01mif\u001b[39;00m \u001b[38;5;28mlen\u001b[39m(error_msgs) \u001b[38;5;241m>\u001b[39m \u001b[38;5;241m0\u001b[39m:\n\u001b[0;32m-> 2584\u001b[0m     \u001b[38;5;28;01mraise\u001b[39;00m \u001b[38;5;167;01mRuntimeError\u001b[39;00m(\n\u001b[1;32m   2585\u001b[0m         \u001b[38;5;124m\"\u001b[39m\u001b[38;5;124mError(s) in loading state_dict for \u001b[39m\u001b[38;5;132;01m{}\u001b[39;00m\u001b[38;5;124m:\u001b[39m\u001b[38;5;130;01m\\n\u001b[39;00m\u001b[38;5;130;01m\\t\u001b[39;00m\u001b[38;5;132;01m{}\u001b[39;00m\u001b[38;5;124m\"\u001b[39m\u001b[38;5;241m.\u001b[39mformat(\n\u001b[1;32m   2586\u001b[0m             \u001b[38;5;28mself\u001b[39m\u001b[38;5;241m.\u001b[39m\u001b[38;5;18m__class__\u001b[39m\u001b[38;5;241m.\u001b[39m\u001b[38;5;18m__name__\u001b[39m, \u001b[38;5;124m\"\u001b[39m\u001b[38;5;130;01m\\n\u001b[39;00m\u001b[38;5;130;01m\\t\u001b[39;00m\u001b[38;5;124m\"\u001b[39m\u001b[38;5;241m.\u001b[39mjoin(error_msgs)\n\u001b[1;32m   2587\u001b[0m         )\n\u001b[1;32m   2588\u001b[0m     )\n\u001b[1;32m   2589\u001b[0m \u001b[38;5;28;01mreturn\u001b[39;00m _IncompatibleKeys(missing_keys, unexpected_keys)\n",
      "\u001b[0;31mRuntimeError\u001b[0m: Error(s) in loading state_dict for LitModel:\n\tMissing key(s) in state_dict: \"shape_functions.4.batch_norm.weight\", \"shape_functions.4.batch_norm.bias\", \"shape_functions.4.batch_norm.running_mean\", \"shape_functions.4.batch_norm.running_var\", \"shape_functions.4.input_layer.weight\", \"shape_functions.4.input_layer.bias\", \"shape_functions.4.output_layer.weight\", \"shape_functions.4.output_layer.bias\", \"shape_functions.4.nn.0.weight\", \"shape_functions.4.nn.0.bias\", \"shape_functions.4.nn.0.running_mean\", \"shape_functions.4.nn.0.running_var\", \"shape_functions.4.nn.1.weight\", \"shape_functions.4.nn.1.bias\", \"shape_functions.4.nn.3.weight\", \"shape_functions.4.nn.3.bias\", \"shape_functions.4.nn.5.weight\", \"shape_functions.4.nn.5.bias\", \"shape_functions.4.nn.7.weight\", \"shape_functions.4.nn.7.bias\", \"shape_functions.4.nn.9.weight\", \"shape_functions.4.nn.9.bias\", \"shape_functions.4.nn.11.weight\", \"shape_functions.4.nn.11.bias\", \"shape_functions.4.nn.13.weight\", \"shape_functions.4.nn.13.bias\", \"shape_functions.5.batch_norm.weight\", \"shape_functions.5.batch_norm.bias\", \"shape_functions.5.batch_norm.running_mean\", \"shape_functions.5.batch_norm.running_var\", \"shape_functions.5.input_layer.weight\", \"shape_functions.5.input_layer.bias\", \"shape_functions.5.output_layer.weight\", \"shape_functions.5.output_layer.bias\", \"shape_functions.5.nn.0.weight\", \"shape_functions.5.nn.0.bias\", \"shape_functions.5.nn.0.running_mean\", \"shape_functions.5.nn.0.running_var\", \"shape_functions.5.nn.1.weight\", \"shape_functions.5.nn.1.bias\", \"shape_functions.5.nn.3.weight\", \"shape_functions.5.nn.3.bias\", \"shape_functions.5.nn.5.weight\", \"shape_functions.5.nn.5.bias\", \"shape_functions.5.nn.7.weight\", \"shape_functions.5.nn.7.bias\", \"shape_functions.5.nn.9.weight\", \"shape_functions.5.nn.9.bias\", \"shape_functions.5.nn.11.weight\", \"shape_functions.5.nn.11.bias\", \"shape_functions.5.nn.13.weight\", \"shape_functions.5.nn.13.bias\", \"shape_functions.6.batch_norm.weight\", \"shape_functions.6.batch_norm.bias\", \"shape_functions.6.batch_norm.running_mean\", \"shape_functions.6.batch_norm.running_var\", \"shape_functions.6.input_layer.weight\", \"shape_functions.6.input_layer.bias\", \"shape_functions.6.output_layer.weight\", \"shape_functions.6.output_layer.bias\", \"shape_functions.6.nn.0.weight\", \"shape_functions.6.nn.0.bias\", \"shape_functions.6.nn.0.running_mean\", \"shape_functions.6.nn.0.running_var\", \"shape_functions.6.nn.1.weight\", \"shape_functions.6.nn.1.bias\", \"shape_functions.6.nn.3.weight\", \"shape_functions.6.nn.3.bias\", \"shape_functions.6.nn.5.weight\", \"shape_functions.6.nn.5.bias\", \"shape_functions.6.nn.7.weight\", \"shape_functions.6.nn.7.bias\", \"shape_functions.6.nn.9.weight\", \"shape_functions.6.nn.9.bias\", \"shape_functions.6.nn.11.weight\", \"shape_functions.6.nn.11.bias\", \"shape_functions.6.nn.13.weight\", \"shape_functions.6.nn.13.bias\", \"shape_functions.7.batch_norm.weight\", \"shape_functions.7.batch_norm.bias\", \"shape_functions.7.batch_norm.running_mean\", \"shape_functions.7.batch_norm.running_var\", \"shape_functions.7.input_layer.weight\", \"shape_functions.7.input_layer.bias\", \"shape_functions.7.output_layer.weight\", \"shape_functions.7.output_layer.bias\", \"shape_functions.7.nn.0.weight\", \"shape_functions.7.nn.0.bias\", \"shape_functions.7.nn.0.running_mean\", \"shape_functions.7.nn.0.running_var\", \"shape_functions.7.nn.1.weight\", \"shape_functions.7.nn.1.bias\", \"shape_functions.7.nn.3.weight\", \"shape_functions.7.nn.3.bias\", \"shape_functions.7.nn.5.weight\", \"shape_functions.7.nn.5.bias\", \"shape_functions.7.nn.7.weight\", \"shape_functions.7.nn.7.bias\", \"shape_functions.7.nn.9.weight\", \"shape_functions.7.nn.9.bias\", \"shape_functions.7.nn.11.weight\", \"shape_functions.7.nn.11.bias\", \"shape_functions.7.nn.13.weight\", \"shape_functions.7.nn.13.bias\". \n\tUnexpected key(s) in state_dict: \"cat_shape_functions.4\", \"cat_shape_functions.5\", \"cat_shape_functions.6\", \"cat_shape_functions.7\". "
     ]
    }
   ],
   "source": [
    "from experiments.utils import create_df_from_cached_results, load_share_from_checkpoint\n",
    "\n",
    "eq = res_df.loc[29, 'equation']\n",
    "id = res_df.loc[29, 'id']\n",
    "timestamp = \"2025-05-05T20.07.47\"\n",
    "esr_best = load_share_from_checkpoint(\n",
    "    timestamp, eq, \n",
    "    checkpoint_dir='data/checkpoints/metabric_c_shrink', \n",
    "    task='regression',\n",
    "    n_features=7, \n",
    "    equation_id=id\n",
    ")\n",
    "esr_best"
   ]
  },
  {
   "cell_type": "code",
   "execution_count": null,
   "id": "64a05515",
   "metadata": {},
   "outputs": [],
   "source": [
    "from lifelines.datasets import load_rossi\n",
    "\n",
    "rossi = load_rossi()\n",
    "X = rossi.copy()\n",
    "T = X.pop(\"week\").values\n",
    "E = X.pop(\"arrest\").values\n",
    "feature_names = X.columns\n",
    "X = X.values\n",
    "\n",
    "categorical_cols = ['fin', 'race', 'wexp', 'mar', 'paro']\n",
    "categorical_dict = {0: 2, 2: 2, 3: 2, 4: 2, 5: 2} # Unique values for each categorical column"
   ]
  },
  {
   "cell_type": "code",
   "execution_count": 7,
   "id": "84eb6dc8",
   "metadata": {},
   "outputs": [],
   "source": [
    "from lifelines.utils import concordance_index\n",
    "from gplearn.gplearn.fitness import make_fitness\n",
    "\n",
    "\n",
    "def metric_c_index(y_true, y_pred, weights):\n",
    "    \"\"\"\n",
    "    C-index fitness function for gplearn\n",
    "    \"\"\"\n",
    "    # y_true is the event time, y_pred is the predicted risk\n",
    "    # weights is the event indicator\n",
    "    try:\n",
    "        y_pred = np.exp(y_pred)\n",
    "        return concordance_index(y_true, y_pred, weights)\n",
    "    except ZeroDivisionError:\n",
    "        return 0.5\n",
    "    except RuntimeWarning:\n",
    "        return 0.5\n"
   ]
  },
  {
   "cell_type": "code",
   "execution_count": 35,
   "id": "c8a0390d",
   "metadata": {},
   "outputs": [
    {
     "name": "stderr",
     "output_type": "stream",
     "text": [
      "GPU available: False, used: False\n",
      "TPU available: False, using: 0 TPU cores\n",
      "IPU available: False, using: 0 IPUs\n",
      "HPU available: False, using: 0 HPUs\n",
      "/rds/user/sb2690/hpc-work/software/micromamba/envs/shares/lib/python3.9/site-packages/pytorch_lightning/trainer/connectors/data_connector.py:224: PossibleUserWarning: The dataloader, predict_dataloader 0, does not have many workers which may be a bottleneck. Consider increasing the value of the `num_workers` argument` (try 76 which is the number of cpus on this machine) in the `DataLoader` init to improve performance.\n",
      "  rank_zero_warn(\n"
     ]
    },
    {
     "data": {
      "application/vnd.jupyter.widget-view+json": {
       "model_id": "c8d168eef1534f1fac5db815d0ffba78",
       "version_major": 2,
       "version_minor": 0
      },
      "text/plain": [
       "Predicting: 0it [00:00, ?it/s]"
      ]
     },
     "metadata": {},
     "output_type": "display_data"
    },
    {
     "name": "stdout",
     "output_type": "stream",
     "text": [
      "C-index: 0.6116199333051524\n"
     ]
    }
   ],
   "source": [
    "y_pred = esr_best.predict(X)\n",
    "print(f\"C-index: {concordance_index(T, y_pred, E)}\")\n",
    "#print(f\"DeepSurv loss: {metric_ranking_loss(T, y_pred, E)}\")\n",
    "#print(f\"Partial likelihood: {metric_partial_likelihood(T, y_pred, E)}\")"
   ]
  },
  {
   "cell_type": "code",
   "execution_count": 36,
   "id": "3854b9e3",
   "metadata": {},
   "outputs": [],
   "source": [
    "def shape_plot(shape, range_min, range_max):\n",
    "    shape.to(torch.device('cpu')).eval()\n",
    "    t = np.linspace(range_min, range_max, 1000)\n",
    "    with torch.no_grad():\n",
    "        y = shape(torch.from_numpy(t).float()).numpy().flatten()\n",
    "    return (t, y)\n"
   ]
  },
  {
   "cell_type": "code",
   "execution_count": 64,
   "id": "49776aac",
   "metadata": {},
   "outputs": [
    {
     "data": {
      "text/html": [
       "<div>\n",
       "<style scoped>\n",
       "    .dataframe tbody tr th:only-of-type {\n",
       "        vertical-align: middle;\n",
       "    }\n",
       "\n",
       "    .dataframe tbody tr th {\n",
       "        vertical-align: top;\n",
       "    }\n",
       "\n",
       "    .dataframe thead th {\n",
       "        text-align: right;\n",
       "    }\n",
       "</style>\n",
       "<table border=\"1\" class=\"dataframe\">\n",
       "  <thead>\n",
       "    <tr style=\"text-align: right;\">\n",
       "      <th></th>\n",
       "      <th>id</th>\n",
       "      <th>equation</th>\n",
       "      <th>raw_fitness</th>\n",
       "      <th>r2</th>\n",
       "      <th>test</th>\n",
       "    </tr>\n",
       "  </thead>\n",
       "  <tbody>\n",
       "    <tr>\n",
       "      <th>54</th>\n",
       "      <td>54</td>\n",
       "      <td>add(X1, mul(div(add(X4, X3), add(shape(X6), sh...</td>\n",
       "      <td>0.655521</td>\n",
       "      <td>-14.984933</td>\n",
       "      <td>54</td>\n",
       "    </tr>\n",
       "    <tr>\n",
       "      <th>33</th>\n",
       "      <td>33</td>\n",
       "      <td>mul(div(mul(X6, X3), add(X5, mul(X1, shape(X2)...</td>\n",
       "      <td>0.616512</td>\n",
       "      <td>-14.887644</td>\n",
       "      <td>33</td>\n",
       "    </tr>\n",
       "    <tr>\n",
       "      <th>71</th>\n",
       "      <td>71</td>\n",
       "      <td>mul(X2, div(X5, shape(mul(X4, shape(mul(X6, X1...</td>\n",
       "      <td>0.608880</td>\n",
       "      <td>-14.887142</td>\n",
       "      <td>71</td>\n",
       "    </tr>\n",
       "    <tr>\n",
       "      <th>79</th>\n",
       "      <td>79</td>\n",
       "      <td>div(X6, mul(add(X1, mul(X2, add(div(shape(X5),...</td>\n",
       "      <td>0.604086</td>\n",
       "      <td>-14.890339</td>\n",
       "      <td>79</td>\n",
       "    </tr>\n",
       "    <tr>\n",
       "      <th>31</th>\n",
       "      <td>31</td>\n",
       "      <td>div(mul(X1, X4), div(shape(mul(shape(X0), add(...</td>\n",
       "      <td>0.571393</td>\n",
       "      <td>-14.881953</td>\n",
       "      <td>31</td>\n",
       "    </tr>\n",
       "    <tr>\n",
       "      <th>...</th>\n",
       "      <td>...</td>\n",
       "      <td>...</td>\n",
       "      <td>...</td>\n",
       "      <td>...</td>\n",
       "      <td>...</td>\n",
       "    </tr>\n",
       "    <tr>\n",
       "      <th>73</th>\n",
       "      <td>73</td>\n",
       "      <td>div(div(div(div(shape(X2), shape(X4)), shape(X...</td>\n",
       "      <td>-0.087223</td>\n",
       "      <td>-0.185299</td>\n",
       "      <td>73</td>\n",
       "    </tr>\n",
       "    <tr>\n",
       "      <th>84</th>\n",
       "      <td>84</td>\n",
       "      <td>shape(div(X1, add(X0, div(X6, shape(X5)))))</td>\n",
       "      <td>-0.099813</td>\n",
       "      <td>-0.001194</td>\n",
       "      <td>84</td>\n",
       "    </tr>\n",
       "    <tr>\n",
       "      <th>63</th>\n",
       "      <td>63</td>\n",
       "      <td>div(mul(add(mul(shape(X3), shape(X5)), shape(X...</td>\n",
       "      <td>-0.111290</td>\n",
       "      <td>-8.702302</td>\n",
       "      <td>63</td>\n",
       "    </tr>\n",
       "    <tr>\n",
       "      <th>69</th>\n",
       "      <td>69</td>\n",
       "      <td>add(mul(mul(add(shape(X1), shape(X0)), shape(X...</td>\n",
       "      <td>-0.125576</td>\n",
       "      <td>-0.587066</td>\n",
       "      <td>69</td>\n",
       "    </tr>\n",
       "    <tr>\n",
       "      <th>68</th>\n",
       "      <td>68</td>\n",
       "      <td>div(div(add(X5, add(div(div(X0, shape(X3)), X4...</td>\n",
       "      <td>-10.423359</td>\n",
       "      <td>-392.893860</td>\n",
       "      <td>68</td>\n",
       "    </tr>\n",
       "  </tbody>\n",
       "</table>\n",
       "<p>99 rows × 5 columns</p>\n",
       "</div>"
      ],
      "text/plain": [
       "    id                                           equation  raw_fitness  \\\n",
       "54  54  add(X1, mul(div(add(X4, X3), add(shape(X6), sh...     0.655521   \n",
       "33  33  mul(div(mul(X6, X3), add(X5, mul(X1, shape(X2)...     0.616512   \n",
       "71  71  mul(X2, div(X5, shape(mul(X4, shape(mul(X6, X1...     0.608880   \n",
       "79  79  div(X6, mul(add(X1, mul(X2, add(div(shape(X5),...     0.604086   \n",
       "31  31  div(mul(X1, X4), div(shape(mul(shape(X0), add(...     0.571393   \n",
       "..  ..                                                ...          ...   \n",
       "73  73  div(div(div(div(shape(X2), shape(X4)), shape(X...    -0.087223   \n",
       "84  84        shape(div(X1, add(X0, div(X6, shape(X5)))))    -0.099813   \n",
       "63  63  div(mul(add(mul(shape(X3), shape(X5)), shape(X...    -0.111290   \n",
       "69  69  add(mul(mul(add(shape(X1), shape(X0)), shape(X...    -0.125576   \n",
       "68  68  div(div(add(X5, add(div(div(X0, shape(X3)), X4...   -10.423359   \n",
       "\n",
       "            r2  test  \n",
       "54  -14.984933    54  \n",
       "33  -14.887644    33  \n",
       "71  -14.887142    71  \n",
       "79  -14.890339    79  \n",
       "31  -14.881953    31  \n",
       "..         ...   ...  \n",
       "73   -0.185299    73  \n",
       "84   -0.001194    84  \n",
       "63   -8.702302    63  \n",
       "69   -0.587066    69  \n",
       "68 -392.893860    68  \n",
       "\n",
       "[99 rows x 5 columns]"
      ]
     },
     "execution_count": 64,
     "metadata": {},
     "output_type": "execute_result"
    }
   ],
   "source": [
    "res_df.assign(test=res_df['id'].values)"
   ]
  },
  {
   "cell_type": "code",
   "execution_count": 40,
   "id": "b8182bc4",
   "metadata": {},
   "outputs": [
    {
     "data": {
      "image/png": "[encoded data removed]",
      "text/plain": [
       "<Figure size 1200x800 with 4 Axes>"
      ]
     },
     "metadata": {},
     "output_type": "display_data"
    }
   ],
   "source": [
    "n_shapes = len(esr_best._program.model.shape_functions)\n",
    "\n",
    "fix, ax = plt.subplots(2, 2, figsize=(12, 8))\n",
    "ax = ax.ravel()\n",
    "\n",
    "for i in range(n_shapes):\n",
    "    t, y = shape_plot(esr_best._program.model.shape_functions[i], -3, +3)\n",
    "    ax[i].plot(t, y, linewidth=2.0, alpha=0.5)\n"
   ]
  }
 ],
 "metadata": {
  "kernelspec": {
   "display_name": "Python 3 (ipykernel)",
   "language": "python",
   "name": "python3"
  },
  "language_info": {
   "codemirror_mode": {
    "name": "ipython",
    "version": 3
   },
   "file_extension": ".py",
   "mimetype": "text/x-python",
   "name": "python",
   "nbconvert_exporter": "python",
   "pygments_lexer": "ipython3",
   "version": "3.9.19"
  }
 },
 "nbformat": 4,
 "nbformat_minor": 5
}
